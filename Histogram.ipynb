{
  "nbformat": 4,
  "nbformat_minor": 0,
  "metadata": {
    "colab": {
      "provenance": [],
      "authorship_tag": "ABX9TyNFARyX1+6Eu4AASqwUDTZv",
      "include_colab_link": true
    },
    "kernelspec": {
      "name": "python3",
      "display_name": "Python 3"
    },
    "language_info": {
      "name": "python"
    }
  },
  "cells": [
    {
      "cell_type": "markdown",
      "metadata": {
        "id": "view-in-github",
        "colab_type": "text"
      },
      "source": [
        "<a href=\"https://colab.research.google.com/github/Hyangsug/data1/blob/main/Histogram.ipynb\" target=\"_parent\"><img src=\"https://colab.research.google.com/assets/colab-badge.svg\" alt=\"Open In Colab\"/></a>"
      ]
    },
    {
      "cell_type": "markdown",
      "source": [
        "First, we mount the google drive into colab using the following codes.  This will allow us to use the data files stored in Google Drive."
      ],
      "metadata": {
        "id": "pcJCzdQX3dLQ"
      }
    },
    {
      "cell_type": "code",
      "source": [
        "from google.colab import drive\n",
        "drive.mount('/content/drive')"
      ],
      "metadata": {
        "id": "VOvJdGoWVt2g",
        "colab": {
          "base_uri": "https://localhost:8080/"
        },
        "outputId": "8c952736-2118-45ed-e3d5-12efe1daa9e0"
      },
      "execution_count": 4,
      "outputs": [
        {
          "output_type": "stream",
          "name": "stdout",
          "text": [
            "Mounted at /content/drive\n"
          ]
        }
      ]
    },
    {
      "cell_type": "markdown",
      "source": [
        "Second, we import libraries into colab.  \"A Python library is a collection of related modules. It contains bundles of code that can be used repeatedly in different programs.\""
      ],
      "metadata": {
        "id": "6IfkbsR13uVA"
      }
    },
    {
      "cell_type": "code",
      "execution_count": 1,
      "metadata": {
        "id": "f75lx2NnqIgH"
      },
      "outputs": [],
      "source": [
        "# Library for dataframes\n",
        "import numpy as np\n",
        "import pandas as pd\n",
        "\n",
        "# Libraries for plotting\n",
        "import matplotlib\n",
        "%matplotlib inline\n",
        "import seaborn as sns\n",
        "sns.set(style='ticks')"
      ]
    },
    {
      "cell_type": "markdown",
      "source": [
        "Here we \"read-in\" the csv file from google drive into the python and assign the file to a variable named \"heightweight_df\"\n",
        "\n",
        "**Input**: heightweight_df = pd.read_csv('/content/drive/MyDrive/Colab Notebooks/H&W.csv')"
      ],
      "metadata": {
        "id": "FkvPHqMo45DC"
      }
    },
    {
      "cell_type": "code",
      "source": [
        "heightweight_df = pd.read_csv('/content/drive/MyDrive/Colab Notebooks/H&W.csv')"
      ],
      "metadata": {
        "id": "LaDhIBZ1q9LF"
      },
      "execution_count": 5,
      "outputs": []
    },
    {
      "cell_type": "markdown",
      "source": [
        "Because the csv file is assigned to a variable, we can type the variable name to see the contents of the file\n",
        "\n",
        "**Input**: heightweight_df"
      ],
      "metadata": {
        "id": "AwI1Ylvk5Wr5"
      }
    },
    {
      "cell_type": "code",
      "source": [
        "heightweight_df"
      ],
      "metadata": {
        "colab": {
          "base_uri": "https://localhost:8080/",
          "height": 424
        },
        "id": "NI5gDjRAcgY5",
        "outputId": "2db8de60-b8da-4e18-b890-0ca53fa5e7f3"
      },
      "execution_count": 7,
      "outputs": [
        {
          "output_type": "execute_result",
          "data": {
            "text/plain": [
              "    gender  height  weight\n",
              "0        0      72     155\n",
              "1        0      67     145\n",
              "2        0      65     125\n",
              "3        1      67     120\n",
              "4        1      63     105\n",
              "..     ...     ...     ...\n",
              "76       0      71     175\n",
              "77       0      70     155\n",
              "78       0      67     167\n",
              "79       1      58     100\n",
              "80       1      56     100\n",
              "\n",
              "[81 rows x 3 columns]"
            ],
            "text/html": [
              "\n",
              "  <div id=\"df-598afc37-f670-475a-a08d-22a33d21425c\">\n",
              "    <div class=\"colab-df-container\">\n",
              "      <div>\n",
              "<style scoped>\n",
              "    .dataframe tbody tr th:only-of-type {\n",
              "        vertical-align: middle;\n",
              "    }\n",
              "\n",
              "    .dataframe tbody tr th {\n",
              "        vertical-align: top;\n",
              "    }\n",
              "\n",
              "    .dataframe thead th {\n",
              "        text-align: right;\n",
              "    }\n",
              "</style>\n",
              "<table border=\"1\" class=\"dataframe\">\n",
              "  <thead>\n",
              "    <tr style=\"text-align: right;\">\n",
              "      <th></th>\n",
              "      <th>gender</th>\n",
              "      <th>height</th>\n",
              "      <th>weight</th>\n",
              "    </tr>\n",
              "  </thead>\n",
              "  <tbody>\n",
              "    <tr>\n",
              "      <th>0</th>\n",
              "      <td>0</td>\n",
              "      <td>72</td>\n",
              "      <td>155</td>\n",
              "    </tr>\n",
              "    <tr>\n",
              "      <th>1</th>\n",
              "      <td>0</td>\n",
              "      <td>67</td>\n",
              "      <td>145</td>\n",
              "    </tr>\n",
              "    <tr>\n",
              "      <th>2</th>\n",
              "      <td>0</td>\n",
              "      <td>65</td>\n",
              "      <td>125</td>\n",
              "    </tr>\n",
              "    <tr>\n",
              "      <th>3</th>\n",
              "      <td>1</td>\n",
              "      <td>67</td>\n",
              "      <td>120</td>\n",
              "    </tr>\n",
              "    <tr>\n",
              "      <th>4</th>\n",
              "      <td>1</td>\n",
              "      <td>63</td>\n",
              "      <td>105</td>\n",
              "    </tr>\n",
              "    <tr>\n",
              "      <th>...</th>\n",
              "      <td>...</td>\n",
              "      <td>...</td>\n",
              "      <td>...</td>\n",
              "    </tr>\n",
              "    <tr>\n",
              "      <th>76</th>\n",
              "      <td>0</td>\n",
              "      <td>71</td>\n",
              "      <td>175</td>\n",
              "    </tr>\n",
              "    <tr>\n",
              "      <th>77</th>\n",
              "      <td>0</td>\n",
              "      <td>70</td>\n",
              "      <td>155</td>\n",
              "    </tr>\n",
              "    <tr>\n",
              "      <th>78</th>\n",
              "      <td>0</td>\n",
              "      <td>67</td>\n",
              "      <td>167</td>\n",
              "    </tr>\n",
              "    <tr>\n",
              "      <th>79</th>\n",
              "      <td>1</td>\n",
              "      <td>58</td>\n",
              "      <td>100</td>\n",
              "    </tr>\n",
              "    <tr>\n",
              "      <th>80</th>\n",
              "      <td>1</td>\n",
              "      <td>56</td>\n",
              "      <td>100</td>\n",
              "    </tr>\n",
              "  </tbody>\n",
              "</table>\n",
              "<p>81 rows × 3 columns</p>\n",
              "</div>\n",
              "      <button class=\"colab-df-convert\" onclick=\"convertToInteractive('df-598afc37-f670-475a-a08d-22a33d21425c')\"\n",
              "              title=\"Convert this dataframe to an interactive table.\"\n",
              "              style=\"display:none;\">\n",
              "        \n",
              "  <svg xmlns=\"http://www.w3.org/2000/svg\" height=\"24px\"viewBox=\"0 0 24 24\"\n",
              "       width=\"24px\">\n",
              "    <path d=\"M0 0h24v24H0V0z\" fill=\"none\"/>\n",
              "    <path d=\"M18.56 5.44l.94 2.06.94-2.06 2.06-.94-2.06-.94-.94-2.06-.94 2.06-2.06.94zm-11 1L8.5 8.5l.94-2.06 2.06-.94-2.06-.94L8.5 2.5l-.94 2.06-2.06.94zm10 10l.94 2.06.94-2.06 2.06-.94-2.06-.94-.94-2.06-.94 2.06-2.06.94z\"/><path d=\"M17.41 7.96l-1.37-1.37c-.4-.4-.92-.59-1.43-.59-.52 0-1.04.2-1.43.59L10.3 9.45l-7.72 7.72c-.78.78-.78 2.05 0 2.83L4 21.41c.39.39.9.59 1.41.59.51 0 1.02-.2 1.41-.59l7.78-7.78 2.81-2.81c.8-.78.8-2.07 0-2.86zM5.41 20L4 18.59l7.72-7.72 1.47 1.35L5.41 20z\"/>\n",
              "  </svg>\n",
              "      </button>\n",
              "      \n",
              "  <style>\n",
              "    .colab-df-container {\n",
              "      display:flex;\n",
              "      flex-wrap:wrap;\n",
              "      gap: 12px;\n",
              "    }\n",
              "\n",
              "    .colab-df-convert {\n",
              "      background-color: #E8F0FE;\n",
              "      border: none;\n",
              "      border-radius: 50%;\n",
              "      cursor: pointer;\n",
              "      display: none;\n",
              "      fill: #1967D2;\n",
              "      height: 32px;\n",
              "      padding: 0 0 0 0;\n",
              "      width: 32px;\n",
              "    }\n",
              "\n",
              "    .colab-df-convert:hover {\n",
              "      background-color: #E2EBFA;\n",
              "      box-shadow: 0px 1px 2px rgba(60, 64, 67, 0.3), 0px 1px 3px 1px rgba(60, 64, 67, 0.15);\n",
              "      fill: #174EA6;\n",
              "    }\n",
              "\n",
              "    [theme=dark] .colab-df-convert {\n",
              "      background-color: #3B4455;\n",
              "      fill: #D2E3FC;\n",
              "    }\n",
              "\n",
              "    [theme=dark] .colab-df-convert:hover {\n",
              "      background-color: #434B5C;\n",
              "      box-shadow: 0px 1px 3px 1px rgba(0, 0, 0, 0.15);\n",
              "      filter: drop-shadow(0px 1px 2px rgba(0, 0, 0, 0.3));\n",
              "      fill: #FFFFFF;\n",
              "    }\n",
              "  </style>\n",
              "\n",
              "      <script>\n",
              "        const buttonEl =\n",
              "          document.querySelector('#df-598afc37-f670-475a-a08d-22a33d21425c button.colab-df-convert');\n",
              "        buttonEl.style.display =\n",
              "          google.colab.kernel.accessAllowed ? 'block' : 'none';\n",
              "\n",
              "        async function convertToInteractive(key) {\n",
              "          const element = document.querySelector('#df-598afc37-f670-475a-a08d-22a33d21425c');\n",
              "          const dataTable =\n",
              "            await google.colab.kernel.invokeFunction('convertToInteractive',\n",
              "                                                     [key], {});\n",
              "          if (!dataTable) return;\n",
              "\n",
              "          const docLinkHtml = 'Like what you see? Visit the ' +\n",
              "            '<a target=\"_blank\" href=https://colab.research.google.com/notebooks/data_table.ipynb>data table notebook</a>'\n",
              "            + ' to learn more about interactive tables.';\n",
              "          element.innerHTML = '';\n",
              "          dataTable['output_type'] = 'display_data';\n",
              "          await google.colab.output.renderOutput(dataTable, element);\n",
              "          const docLink = document.createElement('div');\n",
              "          docLink.innerHTML = docLinkHtml;\n",
              "          element.appendChild(docLink);\n",
              "        }\n",
              "      </script>\n",
              "    </div>\n",
              "  </div>\n",
              "  "
            ]
          },
          "metadata": {},
          "execution_count": 7
        }
      ]
    },
    {
      "cell_type": "markdown",
      "source": [
        "# Type in \"commands\" to cell below and run them to see the results."
      ],
      "metadata": {
        "id": "LiRc0B1thWyM"
      }
    },
    {
      "cell_type": "markdown",
      "source": [
        "\n",
        "\n",
        " heightweight_df['gender'].nunique()"
      ],
      "metadata": {
        "id": "TlgOdit5_dqB"
      }
    },
    {
      "cell_type": "code",
      "source": [],
      "metadata": {
        "id": "8PMGr6bdrTBF"
      },
      "execution_count": 6,
      "outputs": []
    },
    {
      "cell_type": "markdown",
      "source": [
        " heightweight_df.describe()"
      ],
      "metadata": {
        "id": "IXZAzgCLe5id"
      }
    },
    {
      "cell_type": "code",
      "source": [],
      "metadata": {
        "id": "wimrEbcbCVJ8"
      },
      "execution_count": 6,
      "outputs": []
    },
    {
      "cell_type": "markdown",
      "source": [
        " heightweight_df.groupby(by='gender').mean()"
      ],
      "metadata": {
        "id": "49IFb_WjfKob"
      }
    },
    {
      "cell_type": "code",
      "source": [],
      "metadata": {
        "id": "-QJYyj2iCaD7"
      },
      "execution_count": 6,
      "outputs": []
    },
    {
      "cell_type": "markdown",
      "source": [
        " heightweight_df.groupby(by='gender').median()"
      ],
      "metadata": {
        "id": "XZnstwbWfTbt"
      }
    },
    {
      "cell_type": "code",
      "source": [],
      "metadata": {
        "id": "sKz5kZzACdAL"
      },
      "execution_count": 6,
      "outputs": []
    },
    {
      "cell_type": "markdown",
      "source": [
        " heightweight_df.groupby(by='gender').var()"
      ],
      "metadata": {
        "id": "Hcjanlggfdpi"
      }
    },
    {
      "cell_type": "code",
      "source": [],
      "metadata": {
        "id": "xC1NPvTEHIGO"
      },
      "execution_count": 6,
      "outputs": []
    },
    {
      "cell_type": "markdown",
      "source": [
        " heightweight_df.groupby(by='gender').std()"
      ],
      "metadata": {
        "id": "L1ejLK4mfz3x"
      }
    },
    {
      "cell_type": "code",
      "source": [],
      "metadata": {
        "id": "g9a-7XEYHA2b"
      },
      "execution_count": 6,
      "outputs": []
    },
    {
      "cell_type": "markdown",
      "source": [
        " heightweight_df['gender'].value_counts(dropna = False)"
      ],
      "metadata": {
        "id": "zOi1-uH6f7N7"
      }
    },
    {
      "cell_type": "code",
      "source": [],
      "metadata": {
        "id": "QdCy-7UbRNHk"
      },
      "execution_count": 6,
      "outputs": []
    },
    {
      "cell_type": "markdown",
      "source": [
        " heightweight_df.boxplot(column = 'weight', by = 'gender');"
      ],
      "metadata": {
        "id": "b7KcnHxNgEAi"
      }
    },
    {
      "cell_type": "code",
      "source": [],
      "metadata": {
        "id": "7JFllPcuTINV"
      },
      "execution_count": 6,
      "outputs": []
    },
    {
      "cell_type": "markdown",
      "source": [
        " sns.boxplot(x='gender', y='height', data=heightweight_df)"
      ],
      "metadata": {
        "id": "eieNfvgAgLek"
      }
    },
    {
      "cell_type": "code",
      "source": [],
      "metadata": {
        "id": "FSprrJQ4ThJV"
      },
      "execution_count": 6,
      "outputs": []
    },
    {
      "cell_type": "markdown",
      "source": [
        " plot_height = sns.histplot(y = 'weight', data = heightweight_df, binwidth = 5)"
      ],
      "metadata": {
        "id": "C6-Jg83VglVY"
      }
    },
    {
      "cell_type": "code",
      "source": [],
      "metadata": {
        "id": "AYyhodsCCiC7"
      },
      "execution_count": 6,
      "outputs": []
    },
    {
      "cell_type": "markdown",
      "source": [
        " plot_height = sns.histplot(x = 'height', data = heightweight_df, binwidth = 5)"
      ],
      "metadata": {
        "id": "BpeWX-f3gl9B"
      }
    },
    {
      "cell_type": "code",
      "source": [],
      "metadata": {
        "id": "CIwDFs69ClKC"
      },
      "execution_count": 6,
      "outputs": []
    },
    {
      "cell_type": "markdown",
      "source": [
        " Hist_Gender = sns.histplot(x = 'height', y = 'weight', data = heightweight_df) "
      ],
      "metadata": {
        "id": "VY5B8qY7gnSJ"
      }
    },
    {
      "cell_type": "code",
      "source": [],
      "metadata": {
        "id": "iP4TqzJnEnJ6"
      },
      "execution_count": 6,
      "outputs": []
    },
    {
      "cell_type": "markdown",
      "source": [
        " scatterplot1 = sns.scatterplot(x = 'height', y = 'weight', data = heightweight_df)"
      ],
      "metadata": {
        "id": "PDk7pDYqgoF-"
      }
    },
    {
      "cell_type": "code",
      "source": [],
      "metadata": {
        "id": "59VRLEcaCoWr"
      },
      "execution_count": 6,
      "outputs": []
    },
    {
      "cell_type": "markdown",
      "source": [
        " regplot1 = sns.regplot(x = 'height', y = 'weight', data = heightweight_df)"
      ],
      "metadata": {
        "id": "bAOeDkamgoxK"
      }
    },
    {
      "cell_type": "code",
      "source": [],
      "metadata": {
        "id": "1apIt2MjCrs0"
      },
      "execution_count": 6,
      "outputs": []
    },
    {
      "cell_type": "markdown",
      "source": [
        "from scipy import stats\n",
        "\n",
        "stats.pearsonr(heightweight_df['height'], heightweight_df['weight'])"
      ],
      "metadata": {
        "id": "LAdtxBQMgp1C"
      }
    },
    {
      "cell_type": "code",
      "source": [],
      "metadata": {
        "id": "TkV7iKNrCu4B"
      },
      "execution_count": 6,
      "outputs": []
    }
  ]
}